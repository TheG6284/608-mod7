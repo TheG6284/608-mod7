{
 "cells": [
  {
   "cell_type": "markdown",
   "id": "73875131-bdc9-43be-8bc2-5c5aa3913c99",
   "metadata": {
    "tags": []
   },
   "source": [
    "10.1"
   ]
  },
  {
   "cell_type": "markdown",
   "id": "03e03094-b07f-45ed-8063-0ab5a5e8392d",
   "metadata": {
    "tags": []
   },
   "source": [
    "10.2 Self Checks\n",
    "\n",
    "1 (Fill-In) Each new class you create becomes a new data type that can be used to create\n",
    "objects. This is one reason why Python is said to be a(n) ___ language.\n",
    "extensible. \n",
    "\n",
    "2 (Fill-In) A(n) ___ expression creates and initializes an object of a class.\n",
    "constructor\n",
    "\n",
    "3 (Fill-In) A class’s ___ method is called by a constructor expression to initialize a\n",
    "new object of the class.\n",
    "__init__. \n",
    "\n",
    "4 (True/False) A class’s __init__ method returns an object of the class.\n",
    "False\n",
    "\n",
    "5 Changes are made in account_practice.py"
   ]
  },
  {
   "cell_type": "code",
   "execution_count": 27,
   "id": "e79e477c-7b89-4786-a042-a26107beca59",
   "metadata": {
    "tags": []
   },
   "outputs": [
    {
     "name": "stdout",
     "output_type": "stream",
     "text": [
      "75.53\n",
      "55.53\n"
     ]
    }
   ],
   "source": [
    "#10.2 code\n",
    "from account_practice import Account\n",
    "from decimal import Decimal\n",
    "\n",
    "account1 = Account('John Green', Decimal('50.00'))\n",
    "account1.deposit(Decimal('25.53'))\n",
    "print(account1.balance)\n",
    "\n",
    "account1.withdraw(Decimal('20.00'))\n",
    "print(account1.balance)"
   ]
  },
  {
   "cell_type": "markdown",
   "id": "0f50bb8a-8ac7-4a33-86f4-72c157b281e3",
   "metadata": {
    "tags": []
   },
   "source": [
    "10.3 Self Check\n",
    "1 (True/False) Like most object-oriented programming languages, Python provides\n",
    "capabilities for encapsulating an object’s data attributes so client code cannot access the\n",
    "data directly.\n",
    "False"
   ]
  },
  {
   "cell_type": "markdown",
   "id": "77a23d14-e44b-4540-8bc3-0c26229b1569",
   "metadata": {
    "tags": []
   },
   "source": [
    "10.4 Self Check\n",
    "1 (Fill-In) The print function implicitly invokes ___ special method .\n",
    " __str__. \n",
    " \n",
    "2 (Fill-In) IPython calls an object’s special method ___ to produce a string repre\u0002sentation of the object\n",
    "__repr__.\n",
    "\n",
    "3 (True/False) Properties are used like methods.\n",
    "False. \n",
    "\n",
    "4 (Fill-In) The print function implicitly invokes special method .\n",
    "__str__.\n",
    "\n",
    "5 (Fill-In) A(n) property has both a getter and setter. If only a getter is pro\u0002vided, the property is a(n) property, meaning that you only can get the property’s\n",
    "value.\n",
    "read-write, read-only.\n",
    "\n",
    "6 see twp_practice\n",
    "\n",
    "7 (Fill-In) A class’s is the set of public properties and methods programmers\n",
    "should use to interact with objects of the class.\n",
    "interface. \n",
    "\n",
    "8 (Fill-In) A class’s methods are used only inside the class and are not intended\n",
    "to be used by client code. \n",
    "utility."
   ]
  },
  {
   "cell_type": "code",
   "execution_count": 34,
   "id": "5cfb7aef-f66c-46e8-b27c-8297d2a4db1b",
   "metadata": {
    "tags": []
   },
   "outputs": [
    {
     "name": "stdout",
     "output_type": "stream",
     "text": [
      "6:30:00 AM\n",
      "7:45:00 AM\n",
      "6:45:00 AM\n",
      "12:30:45 PM\n"
     ]
    }
   ],
   "source": [
    "#10.4 code\n",
    "\n",
    "from twp_prac import Time\n",
    "\n",
    "wake_up = Time(hour=6, minute=30)\n",
    "print(wake_up)\n",
    "\n",
    "wake_up.set_time(hour=7, minute=45)\n",
    "print(wake_up)\n",
    "\n",
    "wake_up.hour = 6\n",
    "print(wake_up)\n",
    "\n",
    "t = Time()\n",
    "t.time = (12, 30, 45)\n",
    "print(t)"
   ]
  },
  {
   "cell_type": "markdown",
   "id": "e8bc719f-5f23-4c93-9dd1-2e4076a24277",
   "metadata": {
    "tags": []
   },
   "source": [
    "10.5 self check\n",
    "\n",
    "1 (Fill-In) Python mangles attribute names that begin with underscore(s).\n",
    "two. \n",
    "\n",
    "2 (True/False) An attribute that begins with a single underscore is a private attribute.\n",
    "False"
   ]
  },
  {
   "cell_type": "code",
   "execution_count": 37,
   "id": "b41edbcb-6852-4101-b608-1c2e4cab421a",
   "metadata": {
    "tags": []
   },
   "outputs": [
    {
     "data": {
      "text/plain": [
       "'modified'"
      ]
     },
     "execution_count": 37,
     "metadata": {},
     "output_type": "execute_result"
    }
   ],
   "source": [
    "#10.5 code\n",
    "\n",
    "from private import PrivateClass\n",
    "my_object = PrivateClass()\n",
    "my_object.public_data\n",
    "#my_object.__private_data\n",
    "\n",
    "my_object._PrivateClass__private_data\n",
    "my_object._PrivateClass__private_data = 'modified'\n",
    "my_object._PrivateClass__private_data"
   ]
  },
  {
   "cell_type": "markdown",
   "id": "92e8778e-82e9-4735-9732-ebf446cdd227",
   "metadata": {
    "tags": []
   },
   "source": [
    "10.7 self check\n",
    "\n",
    "1 (Fill-In) A base class exists in a(n) relationship with its subclasses.\n",
    "hierarchical. \n",
    "\n",
    "2 (Fill-In) In this section’s Shape class hierarchy, TwoDimensionalShape is a(n)\n",
    " of Shape and a(n) of Circle, Square and Triangle. \n",
    "subclass, base class"
   ]
  },
  {
   "cell_type": "markdown",
   "id": "80368d59-7112-4c25-8b27-b5ff614bf647",
   "metadata": {
    "tags": []
   },
   "source": [
    "10.8 Self Check\n",
    "\n",
    "1 (Fill-In) When a base-class method implementation is inappropriate for a derived\n",
    "class, that method can be (i.e., redefined) in the derived class with an appropriate\n",
    "implementation. \n",
    "overridden.\n",
    "\n",
    "2 (What Does This Code Do?) In this section’s IPython session, explain in detail what\n",
    "snippet [6] does:\n",
    "c.gross_sales = Decimal('20000.00')\n",
    "It sets the gross_sales property of our Comission Employee object 'c' to 20000, would not accept a value less than 0\n",
    "\n",
    "3 (Fill-In) Function determines whether an object has an “is a” relationship\n",
    "with a specific type. \n",
    "isinstance. \n",
    "\n",
    "4 (Fill-In) Function determines whether one class is derived from another. \n",
    "issubclass\n",
    "\n",
    "5 (Fill-In) enables us to take advantage of the “subclass-object-is-a-base-class\u0002object” relationship to process objects in a general way.\n",
    "Polymorphism\n"
   ]
  },
  {
   "cell_type": "code",
   "execution_count": 45,
   "id": "c4107525-c4c6-4e81-8ca4-c7949c03bc9b",
   "metadata": {
    "collapsed": true,
    "jupyter": {
     "outputs_hidden": true,
     "source_hidden": true
    },
    "tags": []
   },
   "outputs": [
    {
     "name": "stdout",
     "output_type": "stream",
     "text": [
      "CommissionEmployee: Sue Jones\n",
      "social security number: 333-33-3333\n",
      "gross sales: 10000.00\n",
      "commission rate: 0.06\n",
      "600.00\n",
      "2,000.00\n",
      "Bob Lewis 444-44-4444 5000.00 0.04 300.00\n"
     ]
    },
    {
     "data": {
      "text/plain": [
       "True"
      ]
     },
     "execution_count": 45,
     "metadata": {},
     "output_type": "execute_result"
    }
   ],
   "source": [
    "#10.8 code\n",
    "\n",
    "from commissionemployee import CommissionEmployee\n",
    "c = CommissionEmployee('Sue', 'Jones', '333-33-3333', Decimal('10000.00'), Decimal('0.06'))\n",
    "\n",
    "print(c)\n",
    "print(f'{c.earnings():,.2f}')\n",
    "\n",
    "c.gross_sales = Decimal('20000.00')\n",
    "c.commission_rate = Decimal('0.1')\n",
    "print(f'{c.earnings():,.2f}')\n",
    "\n",
    "\n",
    "\n",
    "\n",
    "from salariedcommissionemployee import SalariedCommissionEmployee\n",
    "s = SalariedCommissionEmployee('Bob', 'Lewis', '444-44-4444', Decimal('5000.00'), Decimal('0.04'), Decimal('300.00'))\n",
    "print(s.first_name, s.last_name, s.ssn, s.gross_sales, s.commission_rate, s.base_salary)\n",
    "\n",
    "\n",
    "\n",
    "isinstance(s, CommissionEmployee)\n"
   ]
  },
  {
   "cell_type": "code",
   "execution_count": 54,
   "id": "44324dee-980e-4981-a7ed-7bb57027b3d9",
   "metadata": {
    "tags": []
   },
   "outputs": [
    {
     "name": "stdout",
     "output_type": "stream",
     "text": [
      "(-3 + 5i)\n"
     ]
    }
   ],
   "source": [
    "#10.9 - 15 code\n",
    "\n",
    "from complexnumber2 import Complex\n",
    "x = Complex(real=2, imaginary=4)\n",
    "y = Complex(real=5, imaginary =-1)\n",
    "\n",
    "x-=y\n",
    "\n",
    "print(x)\n",
    "\n",
    "from collections import namedtuple\n",
    "\n",
    "Card = namedtuple('Card', ['face', 'suit'])\n",
    "values = ['Queen', 'Hearts']\n",
    "card = Card._make(values)\n"
   ]
  },
  {
   "cell_type": "code",
   "execution_count": 55,
   "id": "f2fc9dd1-7a2c-4f12-a69d-267256fb4e6a",
   "metadata": {},
   "outputs": [
    {
     "ename": "ModuleNotFoundError",
     "evalue": "No module named 'sklearn'",
     "output_type": "error",
     "traceback": [
      "\u001b[1;31m---------------------------------------------------------------------------\u001b[0m",
      "\u001b[1;31mModuleNotFoundError\u001b[0m                       Traceback (most recent call last)",
      "Input \u001b[1;32mIn [55]\u001b[0m, in \u001b[0;36m<cell line: 2>\u001b[1;34m()\u001b[0m\n\u001b[0;32m      1\u001b[0m \u001b[38;5;66;03m#Chaper 15\u001b[39;00m\n\u001b[1;32m----> 2\u001b[0m \u001b[38;5;28;01mfrom\u001b[39;00m \u001b[38;5;21;01msklearn\u001b[39;00m\u001b[38;5;21;01m.\u001b[39;00m\u001b[38;5;21;01mdatasets\u001b[39;00m \u001b[38;5;28;01mimport\u001b[39;00m load_digits\n",
      "\u001b[1;31mModuleNotFoundError\u001b[0m: No module named 'sklearn'"
     ]
    }
   ],
   "source": [
    "#Chaper 15\n",
    "from sklearn.datasets import load_digits\n",
    "digits = load_digits()\n",
    "digits.target[::100]\n",
    "digits.data.shape\n",
    "digits.target.shape\n",
    "digits.images[13]\n",
    "\n",
    "import matplotlib.pyplot as plt\n",
    "\n",
    "for item in zip(axes.ravel(), digits.images, digits.target):\n",
    "    axes, image, target = item\n",
    "    axes.imshow(image, cmap=plt.cm.gray_r)\n",
    "    axes.set_xticks([]) # remove x-axis tick marks\n",
    "    axes.set_yticks([]) # remove y-axis tick marks\n",
    "    axes.set_title(target)\n",
    "    plt.tight_layout()\n",
    "    \n",
    "    \n",
    "axes = plt.subplot()\n",
    "\n",
    "from sklearn.model_selection import train_test_split\n",
    "X_train.shape\n",
    "\n",
    "from sklearn.neighbors import KNeighborsClassifier\n",
    "knn.fit(X=X_train, y=y_train)\n",
    "predicted = knn.predict(X=X_test)\n",
    "expected = y_test\n",
    "wrong = [(p, e) for (p, e) in zip(predicted, expected) if p != e]\n",
    "    \n",
    "print(f'{knn.score(X_test, y_test):.2%}')\n",
    "\n",
    "from sklearn.metrics import confusion_matrix\n",
    "confusion = confusion_matrix(y_true=expected, y_pred=predicted)\n",
    "confusion\n",
    "\n",
    "from sklearn.metrics import classification_report\n",
    "names = [str(digit) for digit in digits.target_names]\n",
    "print(classification_report(expected, predicted, target_names=names))\n",
    "    \n",
    "confusion_df = pd.DataFrame(confusion, index=range(10), columns=range(10))\n",
    "axes = sns.heatmap(confusion_df, annot=True, cmap='nipy_spectral_r')\n",
    "\n",
    "from sklearn.model_selection import KFold\n",
    "kfold = KFold(n_splits=10, random_state=11, shuffle=True)\n",
    "\n",
    "from sklearn.model_selection import cross_val_score\n",
    "scores = cross_val_score(estimator=knn, X=digits.data, y=digits.target, cv=kfold)\n",
    "\n",
    "from sklearn.svm import SVC\n",
    "from sklearn.naive_bayes import GaussianNB\n"
   ]
  }
 ],
 "metadata": {
  "kernelspec": {
   "display_name": "Python 3 (ipykernel)",
   "language": "python",
   "name": "python3"
  },
  "language_info": {
   "codemirror_mode": {
    "name": "ipython",
    "version": 3
   },
   "file_extension": ".py",
   "mimetype": "text/x-python",
   "name": "python",
   "nbconvert_exporter": "python",
   "pygments_lexer": "ipython3",
   "version": "3.9.12"
  }
 },
 "nbformat": 4,
 "nbformat_minor": 5
}
